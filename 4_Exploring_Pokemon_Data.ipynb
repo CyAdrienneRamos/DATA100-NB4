{
  "cells": [
    {
      "cell_type": "markdown",
      "metadata": {
        "id": "view-in-github",
        "colab_type": "text"
      },
      "source": [
        "<a href=\"https://colab.research.google.com/github/CyAdrienneRamos/DATA100-NB4/blob/main/4_Exploring_Pokemon_Data.ipynb\" target=\"_parent\"><img src=\"https://colab.research.google.com/assets/colab-badge.svg\" alt=\"Open In Colab\"/></a>"
      ]
    },
    {
      "cell_type": "markdown",
      "source": [
        "Cy Adrienne C. Ramos\n",
        "\n",
        "DATA100"
      ],
      "metadata": {
        "id": "cdTdwzeG5NjB"
      }
    },
    {
      "cell_type": "markdown",
      "metadata": {
        "id": "gUhzgcVt5Ml5"
      },
      "source": [
        "# Exploring Pokemon Data\n",
        "In this Notebook, we will be exploring our first dataset - the [Pokemon](https://www.kaggle.com/mariotormo/complete-pokemon-dataset-updated-090420) data. In the process of exploring this data, we will be covering basics on reading, processing, analyzing, and visualizing simple tabular datasets.\n",
        "\n",
        "Our Notebooks in CSMODEL are designed to be guided learning activities. To use them, simply go through the cells from top to bottom, following the directions along the way. If you find any unclear parts or mistakes in the Notebooks, email your instructor."
      ]
    },
    {
      "cell_type": "markdown",
      "metadata": {
        "id": "sh-wGuUP5Ml7"
      },
      "source": [
        "## Instructions\n",
        "* Read each cell and implement the TODOs sequentially. The markdown/text cells also contain instructions which you need to follow to get the whole notebook working.\n",
        "* Do not change the variable names unless the instructor allows you to.\n",
        "* Answer all the markdown/text cells with 'Question #' on them. The answer must strictly consume one line only.\n",
        "* You are expected to search how to some functions work on the Internet or via the docs.\n",
        "* The notebooks will undergo a 'Restart and Run All' command, so make sure that your code is working properly.\n",
        "* You are expected to understand the dataset loading and processing separately from this class.\n",
        "* You may not reproduce this notebook or share them to anyone."
      ]
    },
    {
      "cell_type": "markdown",
      "metadata": {
        "id": "WO5gd6kR5Ml7"
      },
      "source": [
        "## `pandas` and `matplotlib`\n",
        "* **`pandas`** is a software library for Python that is designed for data manipulation and data analysis.\n",
        "* **`matplotlib`** is a software libary for data visualization, which allows us to easily render various types of graphs.\n",
        "\n",
        "We will be using these two libraries in this Notebook."
      ]
    },
    {
      "cell_type": "code",
      "execution_count": null,
      "metadata": {
        "colab": {
          "base_uri": "https://localhost:8080/"
        },
        "id": "G0JUsgBj5Ml8",
        "outputId": "bcf2231e-fd59-41b4-98c6-00efe8be1a3a"
      },
      "outputs": [
        {
          "output_type": "stream",
          "name": "stderr",
          "text": [
            "<ipython-input-1-021c8e8b9abf>:6: MatplotlibDeprecationWarning: The seaborn styles shipped by Matplotlib are deprecated since 3.6, as they no longer correspond to the styles shipped by seaborn. However, they will remain available as 'seaborn-v0_8-<style>'. Alternatively, directly use the seaborn API instead.\n",
            "  plt.style.use('seaborn-darkgrid')\n"
          ]
        }
      ],
      "source": [
        "import numpy as np\n",
        "import pandas as pd\n",
        "import matplotlib.pyplot as plt\n",
        "\n",
        "# sets the theme of the charts\n",
        "plt.style.use('seaborn-darkgrid')\n",
        "\n",
        "%matplotlib inline"
      ]
    },
    {
      "cell_type": "markdown",
      "metadata": {
        "id": "fHt6Rj1t5Ml9"
      },
      "source": [
        "The `%matplotlib inline` command allows for the visualization charts from `matplotlib` to be automatically rendered and displayed in the Notebook.\n",
        "\n",
        "Additionally, you can also customize or choose the theme you'd like to use with `matplotlib` using the `plt.style.use()` command. See the [style sheets reference](https://matplotlib.org/stable/gallery/style_sheets/style_sheets_reference.html) from `matplotlib` for more options."
      ]
    },
    {
      "cell_type": "markdown",
      "metadata": {
        "id": "UUwMg7Hn5Ml9"
      },
      "source": [
        "## The Dataset\n",
        "For this notebook, we will working on a dataset called `pokemon`. This dataset contains 890 known pokemon until 8th Generation and its varieties.\n",
        "\n",
        "The dataset is provided to you as a `.csv` file. `.csv` means comma-separated values. You can open the file in Notepad to see how it is exactly formatted."
      ]
    },
    {
      "cell_type": "markdown",
      "metadata": {
        "id": "LIAUW_zb5Ml9"
      },
      "source": [
        "If you view the `.csv` file in Excel, you can see that our dataset contains many **observations** (rows) across 48 **variables** (columns). The following are the descriptions of each variable in the dataset.\n",
        "\n",
        "- **`pokedex_number`**: entry number of the Pokemon in the National Pokedex\n",
        "- **`name`**: English name of the Pokemon\n",
        "- **`generation`**: numbered generation which the Pokemon was first introduced\n",
        "- **`status`**: denotes if the Pokemon is normal, sub legendary, legendary or mythical\n",
        "- **`species`**: category of the Pokemon\n",
        "- **`type_number`**: number of types that the Pokemon has\n",
        "- **`type_1`**: primary type of the Pokemon\n",
        "- **`type_2`**: secondary type of the Pokemon (if any)\n",
        "- **`height_m`**: height of the Pokemon in meters\n",
        "- **`weight_kg`**: weight of the Pokemon in kilograms\n",
        "- **`abilities_number`**: the number of abilities of the Pokemon\n",
        "- **`ability_1`**: ability of the Pokemon\n",
        "- **`ability_2`**: another ability of the Pokemon (if any)\n",
        "- **`ability_hidden`**: hidden ability of the Pokemon (if any)\n",
        "- **`total_points`**: total number of base points\n",
        "- **`hp`**: base HP of the Pokemon\n",
        "- **`attack`**: base attack of the Pokemon\n",
        "- **`defense`**: base defense of the Pokemon\n",
        "- **`sp_attack`**: base special attack of the pokemon\n",
        "- **`sp_defense`**: base special defense of the Pokemon\n",
        "- **`speed`**: base speed of the Pokemon\n",
        "- **`catch_rate`**: catch rate of the Pokemon\n",
        "- **`base_friendship`**: base friendship of the Pokemon\n",
        "- **`base_experience`**: base experience of a wild Pokemon when caught\n",
        "- **`growth_rate`**: growth rate of the Pokemon\n",
        "- **`egg_type_number`**: number of groups where a Pokemon can hatch\n",
        "- **`egg_type_1`**: name of an egg group where a Pokemon can hatch\n",
        "- **`egg_type_2`**: name of an egg group where a Pokemon can hatch\n",
        "- **`percentage_male`**: percentage of the species that are male, blank if the Pokemon is genderless.\n",
        "- **`egg_cycles`**: number of cycles (255-257 steps) required to hatch an egg of the Pokemon\n",
        "- **`against_normal`**: denote the amount of damage taken against an attack of a normal Pokemon\n",
        "- **`against_fire`**: denote the amount of damage taken against an attack of a fire Pokemon\n",
        "- **`against_water`**: denote the amount of damage taken against an attack of a water Pokemon\n",
        "- **`against_electric`**: denote the amount of damage taken against an attack of an electric Pokemon\n",
        "- **`against_grass`**: denote the amount of damage taken against an attack of a grass Pokemon\n",
        "- **`against_ice`**: denote the amount of damage taken against an attack of an ice Pokemon\n",
        "- **`against_fight`**: denote the amount of damage taken against an attack of a fighting Pokemon\n",
        "- **`against_poison`**: denote the amount of damage taken against an attack of a poison Pokemon\n",
        "- **`against_ground`**: denote the amount of damage taken against an attack of a ground Pokemon\n",
        "- **`against_flying`**: denote the amount of damage taken against an attack of a flying Pokemon\n",
        "- **`against_psychic`**: denote the amount of damage taken against an attack of a psychic Pokemon\n",
        "- **`against_bug`**: denote the amount of damage taken against an attack of a bug Pokemon\n",
        "- **`against_rock`**: denote the amount of damage taken against an attack of a rock Pokemon\n",
        "- **`against_ghost`**: denote the amount of damage taken against an attack of a ghost Pokemon\n",
        "- **`against_dragon`**: denote the amount of damage taken against an attack of a dragon Pokemon\n",
        "- **`against_dark`**: denote the amount of damage taken against an attack of a dark Pokemon\n",
        "- **`against_steel`**: denote the amount of damage taken against an attack of a steel Pokemon\n",
        "- **`against_fairy`**: denote the amount of damage taken against an attack of a fairy Pokemon"
      ]
    },
    {
      "cell_type": "markdown",
      "metadata": {
        "id": "eUYZichv5Ml-"
      },
      "source": [
        "## Reading the Dataset"
      ]
    },
    {
      "cell_type": "markdown",
      "metadata": {
        "id": "llcvLvNG5Ml-"
      },
      "source": [
        "Our first step is to load the dataset using `pandas`. This will load the dataset into a pandas `DataFrame`. To load the dataset, we use the [`read_csv`](https://pandas.pydata.org/pandas-docs/stable/reference/api/pandas.read_csv.html) function. Note that you may need to change the path depending on the location of the file in your machine."
      ]
    },
    {
      "cell_type": "code",
      "execution_count": null,
      "metadata": {
        "colab": {
          "base_uri": "https://localhost:8080/",
          "height": 287
        },
        "id": "UQNeoeGf5Ml-",
        "outputId": "51d4e235-1044-445d-a453-64545f5ce513"
      },
      "outputs": [
        {
          "output_type": "error",
          "ename": "FileNotFoundError",
          "evalue": "[Errno 2] No such file or directory: 'pokemon.csv'",
          "traceback": [
            "\u001b[0;31m---------------------------------------------------------------------------\u001b[0m",
            "\u001b[0;31mFileNotFoundError\u001b[0m                         Traceback (most recent call last)",
            "\u001b[0;32m<ipython-input-2-815c8e5a9973>\u001b[0m in \u001b[0;36m<cell line: 1>\u001b[0;34m()\u001b[0m\n\u001b[0;32m----> 1\u001b[0;31m \u001b[0mpokemon_df\u001b[0m \u001b[0;34m=\u001b[0m \u001b[0mpd\u001b[0m\u001b[0;34m.\u001b[0m\u001b[0mread_csv\u001b[0m\u001b[0;34m(\u001b[0m\u001b[0;34m'pokemon.csv'\u001b[0m\u001b[0;34m)\u001b[0m\u001b[0;34m\u001b[0m\u001b[0;34m\u001b[0m\u001b[0m\n\u001b[0m",
            "\u001b[0;32m/usr/local/lib/python3.10/dist-packages/pandas/io/parsers/readers.py\u001b[0m in \u001b[0;36mread_csv\u001b[0;34m(filepath_or_buffer, sep, delimiter, header, names, index_col, usecols, dtype, engine, converters, true_values, false_values, skipinitialspace, skiprows, skipfooter, nrows, na_values, keep_default_na, na_filter, verbose, skip_blank_lines, parse_dates, infer_datetime_format, keep_date_col, date_parser, date_format, dayfirst, cache_dates, iterator, chunksize, compression, thousands, decimal, lineterminator, quotechar, quoting, doublequote, escapechar, comment, encoding, encoding_errors, dialect, on_bad_lines, delim_whitespace, low_memory, memory_map, float_precision, storage_options, dtype_backend)\u001b[0m\n\u001b[1;32m   1024\u001b[0m     \u001b[0mkwds\u001b[0m\u001b[0;34m.\u001b[0m\u001b[0mupdate\u001b[0m\u001b[0;34m(\u001b[0m\u001b[0mkwds_defaults\u001b[0m\u001b[0;34m)\u001b[0m\u001b[0;34m\u001b[0m\u001b[0;34m\u001b[0m\u001b[0m\n\u001b[1;32m   1025\u001b[0m \u001b[0;34m\u001b[0m\u001b[0m\n\u001b[0;32m-> 1026\u001b[0;31m     \u001b[0;32mreturn\u001b[0m \u001b[0m_read\u001b[0m\u001b[0;34m(\u001b[0m\u001b[0mfilepath_or_buffer\u001b[0m\u001b[0;34m,\u001b[0m \u001b[0mkwds\u001b[0m\u001b[0;34m)\u001b[0m\u001b[0;34m\u001b[0m\u001b[0;34m\u001b[0m\u001b[0m\n\u001b[0m\u001b[1;32m   1027\u001b[0m \u001b[0;34m\u001b[0m\u001b[0m\n\u001b[1;32m   1028\u001b[0m \u001b[0;34m\u001b[0m\u001b[0m\n",
            "\u001b[0;32m/usr/local/lib/python3.10/dist-packages/pandas/io/parsers/readers.py\u001b[0m in \u001b[0;36m_read\u001b[0;34m(filepath_or_buffer, kwds)\u001b[0m\n\u001b[1;32m    618\u001b[0m \u001b[0;34m\u001b[0m\u001b[0m\n\u001b[1;32m    619\u001b[0m     \u001b[0;31m# Create the parser.\u001b[0m\u001b[0;34m\u001b[0m\u001b[0;34m\u001b[0m\u001b[0m\n\u001b[0;32m--> 620\u001b[0;31m     \u001b[0mparser\u001b[0m \u001b[0;34m=\u001b[0m \u001b[0mTextFileReader\u001b[0m\u001b[0;34m(\u001b[0m\u001b[0mfilepath_or_buffer\u001b[0m\u001b[0;34m,\u001b[0m \u001b[0;34m**\u001b[0m\u001b[0mkwds\u001b[0m\u001b[0;34m)\u001b[0m\u001b[0;34m\u001b[0m\u001b[0;34m\u001b[0m\u001b[0m\n\u001b[0m\u001b[1;32m    621\u001b[0m \u001b[0;34m\u001b[0m\u001b[0m\n\u001b[1;32m    622\u001b[0m     \u001b[0;32mif\u001b[0m \u001b[0mchunksize\u001b[0m \u001b[0;32mor\u001b[0m \u001b[0miterator\u001b[0m\u001b[0;34m:\u001b[0m\u001b[0;34m\u001b[0m\u001b[0;34m\u001b[0m\u001b[0m\n",
            "\u001b[0;32m/usr/local/lib/python3.10/dist-packages/pandas/io/parsers/readers.py\u001b[0m in \u001b[0;36m__init__\u001b[0;34m(self, f, engine, **kwds)\u001b[0m\n\u001b[1;32m   1618\u001b[0m \u001b[0;34m\u001b[0m\u001b[0m\n\u001b[1;32m   1619\u001b[0m         \u001b[0mself\u001b[0m\u001b[0;34m.\u001b[0m\u001b[0mhandles\u001b[0m\u001b[0;34m:\u001b[0m \u001b[0mIOHandles\u001b[0m \u001b[0;34m|\u001b[0m \u001b[0;32mNone\u001b[0m \u001b[0;34m=\u001b[0m \u001b[0;32mNone\u001b[0m\u001b[0;34m\u001b[0m\u001b[0;34m\u001b[0m\u001b[0m\n\u001b[0;32m-> 1620\u001b[0;31m         \u001b[0mself\u001b[0m\u001b[0;34m.\u001b[0m\u001b[0m_engine\u001b[0m \u001b[0;34m=\u001b[0m \u001b[0mself\u001b[0m\u001b[0;34m.\u001b[0m\u001b[0m_make_engine\u001b[0m\u001b[0;34m(\u001b[0m\u001b[0mf\u001b[0m\u001b[0;34m,\u001b[0m \u001b[0mself\u001b[0m\u001b[0;34m.\u001b[0m\u001b[0mengine\u001b[0m\u001b[0;34m)\u001b[0m\u001b[0;34m\u001b[0m\u001b[0;34m\u001b[0m\u001b[0m\n\u001b[0m\u001b[1;32m   1621\u001b[0m \u001b[0;34m\u001b[0m\u001b[0m\n\u001b[1;32m   1622\u001b[0m     \u001b[0;32mdef\u001b[0m \u001b[0mclose\u001b[0m\u001b[0;34m(\u001b[0m\u001b[0mself\u001b[0m\u001b[0;34m)\u001b[0m \u001b[0;34m->\u001b[0m \u001b[0;32mNone\u001b[0m\u001b[0;34m:\u001b[0m\u001b[0;34m\u001b[0m\u001b[0;34m\u001b[0m\u001b[0m\n",
            "\u001b[0;32m/usr/local/lib/python3.10/dist-packages/pandas/io/parsers/readers.py\u001b[0m in \u001b[0;36m_make_engine\u001b[0;34m(self, f, engine)\u001b[0m\n\u001b[1;32m   1878\u001b[0m                 \u001b[0;32mif\u001b[0m \u001b[0;34m\"b\"\u001b[0m \u001b[0;32mnot\u001b[0m \u001b[0;32min\u001b[0m \u001b[0mmode\u001b[0m\u001b[0;34m:\u001b[0m\u001b[0;34m\u001b[0m\u001b[0;34m\u001b[0m\u001b[0m\n\u001b[1;32m   1879\u001b[0m                     \u001b[0mmode\u001b[0m \u001b[0;34m+=\u001b[0m \u001b[0;34m\"b\"\u001b[0m\u001b[0;34m\u001b[0m\u001b[0;34m\u001b[0m\u001b[0m\n\u001b[0;32m-> 1880\u001b[0;31m             self.handles = get_handle(\n\u001b[0m\u001b[1;32m   1881\u001b[0m                 \u001b[0mf\u001b[0m\u001b[0;34m,\u001b[0m\u001b[0;34m\u001b[0m\u001b[0;34m\u001b[0m\u001b[0m\n\u001b[1;32m   1882\u001b[0m                 \u001b[0mmode\u001b[0m\u001b[0;34m,\u001b[0m\u001b[0;34m\u001b[0m\u001b[0;34m\u001b[0m\u001b[0m\n",
            "\u001b[0;32m/usr/local/lib/python3.10/dist-packages/pandas/io/common.py\u001b[0m in \u001b[0;36mget_handle\u001b[0;34m(path_or_buf, mode, encoding, compression, memory_map, is_text, errors, storage_options)\u001b[0m\n\u001b[1;32m    871\u001b[0m         \u001b[0;32mif\u001b[0m \u001b[0mioargs\u001b[0m\u001b[0;34m.\u001b[0m\u001b[0mencoding\u001b[0m \u001b[0;32mand\u001b[0m \u001b[0;34m\"b\"\u001b[0m \u001b[0;32mnot\u001b[0m \u001b[0;32min\u001b[0m \u001b[0mioargs\u001b[0m\u001b[0;34m.\u001b[0m\u001b[0mmode\u001b[0m\u001b[0;34m:\u001b[0m\u001b[0;34m\u001b[0m\u001b[0;34m\u001b[0m\u001b[0m\n\u001b[1;32m    872\u001b[0m             \u001b[0;31m# Encoding\u001b[0m\u001b[0;34m\u001b[0m\u001b[0;34m\u001b[0m\u001b[0m\n\u001b[0;32m--> 873\u001b[0;31m             handle = open(\n\u001b[0m\u001b[1;32m    874\u001b[0m                 \u001b[0mhandle\u001b[0m\u001b[0;34m,\u001b[0m\u001b[0;34m\u001b[0m\u001b[0;34m\u001b[0m\u001b[0m\n\u001b[1;32m    875\u001b[0m                 \u001b[0mioargs\u001b[0m\u001b[0;34m.\u001b[0m\u001b[0mmode\u001b[0m\u001b[0;34m,\u001b[0m\u001b[0;34m\u001b[0m\u001b[0;34m\u001b[0m\u001b[0m\n",
            "\u001b[0;31mFileNotFoundError\u001b[0m: [Errno 2] No such file or directory: 'pokemon.csv'"
          ]
        }
      ],
      "source": [
        "pokemon_df = pd.read_csv('pokemon.csv')"
      ]
    },
    {
      "cell_type": "markdown",
      "metadata": {
        "id": "tZcPafZh5Ml-"
      },
      "source": [
        "The dataset should now be loaded in the `pokemon_df` variable. `pokemon_df` is a [`DataFrame`](https://pandas.pydata.org/pandas-docs/stable/reference/api/pandas.DataFrame.html). It is a data structure for storing tabular data, and the main data structure used in pandas."
      ]
    },
    {
      "cell_type": "markdown",
      "metadata": {
        "id": "uYa6hzHo5Ml_"
      },
      "source": [
        "Whenever we load a new dataset, it is generally a good idea to call the [`info`](https://pandas.pydata.org/pandas-docs/stable/reference/api/pandas.DataFrame.info.html) function, which displays general information about the dataset."
      ]
    },
    {
      "cell_type": "code",
      "execution_count": null,
      "metadata": {
        "id": "6xi2bew35Ml_"
      },
      "outputs": [],
      "source": [
        "pokemon_df.info()"
      ]
    },
    {
      "cell_type": "markdown",
      "metadata": {
        "id": "xEzaIfBi5Ml_"
      },
      "source": [
        "**Question #1:** How many observations are there in the dataset?\n",
        "\n",
        "Answer:"
      ]
    },
    {
      "cell_type": "markdown",
      "metadata": {
        "id": "btV3uugq5Ml_"
      },
      "source": [
        "**Question #2:** How many variables are there in the dataset?\n",
        "\n",
        "Answer:"
      ]
    },
    {
      "cell_type": "markdown",
      "metadata": {
        "id": "rESVWpJQ5Ml_"
      },
      "source": [
        "**Question #3:** What is the data type of the `hp` column?\n",
        "\n",
        "Answer:"
      ]
    },
    {
      "cell_type": "markdown",
      "metadata": {
        "id": "Lhywx1ZV5Ml_"
      },
      "source": [
        "We can call the [`head`](https://pandas.pydata.org/pandas-docs/stable/reference/api/pandas.DataFrame.head.html) function to display the first `n` rows of the dataset."
      ]
    },
    {
      "cell_type": "code",
      "execution_count": null,
      "metadata": {
        "id": "U2urEsPg5Ml_"
      },
      "outputs": [],
      "source": [
        "pokemon_df.head(10)"
      ]
    },
    {
      "cell_type": "markdown",
      "metadata": {
        "id": "cD4YpuKa5Ml_"
      },
      "source": [
        "We can call also call the [`tail`](https://pandas.pydata.org/pandas-docs/stable/reference/api/pandas.DataFrame.tail.html) function to display the last `n` rows of the dataset.\n",
        "\n",
        "Use the tail function to find out what is the type of the **last** row in the dataset."
      ]
    },
    {
      "cell_type": "code",
      "execution_count": null,
      "metadata": {
        "id": "jL835Asa5Ml_"
      },
      "outputs": [],
      "source": [
        "# Write your code here\n"
      ]
    },
    {
      "cell_type": "markdown",
      "metadata": {
        "id": "V_ZAHu3i5MmA"
      },
      "source": [
        "**Question #4:** What is/are the type/s of the Pokemon in last row of the dataset?\n",
        "\n",
        "Answer:"
      ]
    },
    {
      "cell_type": "markdown",
      "metadata": {
        "id": "ThL2n8mz5MmA"
      },
      "source": [
        "We can get the columns of the dataset by accessing the [`columns`](https://pandas.pydata.org/pandas-docs/stable/reference/api/pandas.DataFrame.columns.html) property of the `DataFrame`."
      ]
    },
    {
      "cell_type": "code",
      "execution_count": null,
      "metadata": {
        "id": "e6i8TtCk5MmA"
      },
      "outputs": [],
      "source": [
        "pokemon_df.columns"
      ]
    },
    {
      "cell_type": "markdown",
      "metadata": {
        "id": "dO3IjJi15MmA"
      },
      "source": [
        "## Exploratory Data Analysis"
      ]
    },
    {
      "cell_type": "markdown",
      "metadata": {
        "id": "WqIXFF5c5MmA"
      },
      "source": [
        "The `pokemon` dataframe is a massive trove of information. Let's think about some questions we might want to answer with these data."
      ]
    },
    {
      "cell_type": "markdown",
      "metadata": {
        "id": "sElGOjEO5MmA"
      },
      "source": [
        "### Which type has the highest number of Pokemons?"
      ]
    },
    {
      "cell_type": "markdown",
      "metadata": {
        "id": "MSKXYTb75MmA"
      },
      "source": [
        "To answer this question, the variable of interest is:\n",
        "- **`type_1`**: primary type of the Pokemon"
      ]
    },
    {
      "cell_type": "markdown",
      "metadata": {
        "id": "DnVe_Rws5MmA"
      },
      "source": [
        "We can select a specific column from a `DataFrame` as a `Series` by using square brackets. For example, we can get the primary type of various Pokemon in the dataset by accessing the `type_1` column:"
      ]
    },
    {
      "cell_type": "code",
      "execution_count": null,
      "metadata": {
        "id": "880wRlB-5MmA"
      },
      "outputs": [],
      "source": [
        "pokemon_df[\"type_1\"]"
      ]
    },
    {
      "cell_type": "markdown",
      "metadata": {
        "id": "RBS6Q4wT5MmB"
      },
      "source": [
        "Note that the data type of the column above is a `Series`."
      ]
    },
    {
      "cell_type": "code",
      "execution_count": null,
      "metadata": {
        "id": "MMLBF9tV5MmB"
      },
      "outputs": [],
      "source": [
        "type(pokemon_df[\"type_1\"])"
      ]
    },
    {
      "cell_type": "markdown",
      "metadata": {
        "id": "8G0DQ1wb5MmB"
      },
      "source": [
        "Count the number of pokemon per primary type."
      ]
    },
    {
      "cell_type": "code",
      "execution_count": null,
      "metadata": {
        "id": "2Ow1Ux9T5MmB"
      },
      "outputs": [],
      "source": [
        "type_count_df = pokemon_df['type_1'].value_counts()\n",
        "type_count_df"
      ]
    },
    {
      "cell_type": "markdown",
      "metadata": {
        "id": "ycLQj4Jf5MmB"
      },
      "source": [
        "Bar plots are used to show the count of each value. They are only used for categorical data. Use the [`bar`](https://pandas.pydata.org/pandas-docs/stable/reference/api/pandas.DataFrame.plot.bar.html) function."
      ]
    },
    {
      "cell_type": "markdown",
      "metadata": {
        "id": "dTgQYNFo5MmB"
      },
      "source": [
        "Let's create a plot to show the count per primary type of Pokemon."
      ]
    },
    {
      "cell_type": "code",
      "execution_count": null,
      "metadata": {
        "id": "fM87uihc5MmB"
      },
      "outputs": [],
      "source": [
        "type_count_df.plot.barh(figsize=(6,7)).invert_yaxis()\n",
        "plt.xlabel('Primary Type')\n",
        "plt.ylabel('Count')\n",
        "plt.title('Pokemon count per primary type')"
      ]
    },
    {
      "cell_type": "markdown",
      "metadata": {
        "id": "1CfBLt7o5MmC"
      },
      "source": [
        "**Question #5:** What are the top 3 types with the highest Pokemon count?\n",
        "\n",
        "Answer:"
      ]
    },
    {
      "cell_type": "markdown",
      "metadata": {
        "id": "bUoMP4D25MmC"
      },
      "source": [
        "### What is the average base HP of a specific type of Pokemon?"
      ]
    },
    {
      "cell_type": "markdown",
      "metadata": {
        "id": "9CfH-hm65MmC"
      },
      "source": [
        "To answer this question, the variables of interest are:\n",
        "- **`type_1`**: primary type of the Pokemon\n",
        "- **`hp`**: base HP of the Pokemon"
      ]
    },
    {
      "cell_type": "markdown",
      "metadata": {
        "id": "nUyyR_mq5MmC"
      },
      "source": [
        "Write code to select the `hp` column as a series."
      ]
    },
    {
      "cell_type": "code",
      "execution_count": null,
      "metadata": {
        "id": "Wxzof5O_5MmC"
      },
      "outputs": [],
      "source": [
        "# Write your code here\n"
      ]
    },
    {
      "cell_type": "markdown",
      "metadata": {
        "id": "66FLnEZP5MmC"
      },
      "source": [
        "We can also select a list of columns from the dataset by providing a list instead of the name of a single column. For example, we can select both the `type_1` and `hp` columns at the same time as follows:"
      ]
    },
    {
      "cell_type": "code",
      "execution_count": null,
      "metadata": {
        "id": "cVlcGh5E5MmC"
      },
      "outputs": [],
      "source": [
        "pokemon_df[[\"type_1\", \"hp\"]]"
      ]
    },
    {
      "cell_type": "markdown",
      "metadata": {
        "id": "Q66TZopJ5MmC"
      },
      "source": [
        "Note that by doing this, we are getting a `DataFrame` (albeit a smaller one) instead of a `Series`."
      ]
    },
    {
      "cell_type": "code",
      "execution_count": null,
      "metadata": {
        "id": "hjcmbY_I5MmD"
      },
      "outputs": [],
      "source": [
        "type(pokemon_df[[\"type_1\", \"hp\"]])"
      ]
    },
    {
      "cell_type": "markdown",
      "metadata": {
        "id": "32gTpwCt5MmD"
      },
      "source": [
        "A good way to get an understanding of numerical values in the dataset is to use a histogram. Let's use a histogram to visualize the weight of all Pokemons in the dataset. To do this, we will call the [`hist`](https://pandas.pydata.org/pandas-docs/stable/reference/api/pandas.DataFrame.hist.html) function of the `DataFrame` which in turn calls the appropriate matplotlib function.\n",
        "\n",
        "Note that we also call the [`show`](https://matplotlib.org/api/_as_gen/matplotlib.pyplot.show.html) function of matplotlib to display only the graph."
      ]
    },
    {
      "cell_type": "code",
      "execution_count": null,
      "metadata": {
        "id": "o0C1YUk45MmD"
      },
      "outputs": [],
      "source": [
        "pokemon_df.hist(\"weight_kg\", bins=30, edgecolor='w', figsize=(8, 4))\n",
        "plt.show()   # explicit call to show the chart (not needed with the matplotlib inline command)"
      ]
    },
    {
      "cell_type": "markdown",
      "metadata": {
        "id": "K3cJVO_e5MmD"
      },
      "source": [
        "You can play around the `bins` parameter by changing its value above."
      ]
    },
    {
      "cell_type": "markdown",
      "metadata": {
        "id": "ugbxb1qL5MmD"
      },
      "source": [
        "Let's say we want to investigate the base HP for normal Pokemons only. To do this, we have to consider **only the observations in which the `type_1` is `Normal`**."
      ]
    },
    {
      "cell_type": "code",
      "execution_count": null,
      "metadata": {
        "id": "4b7P1jpO5MmD"
      },
      "outputs": [],
      "source": [
        "pokemon_df[pokemon_df[\"type_1\"] == \"Normal\"]"
      ]
    },
    {
      "cell_type": "markdown",
      "metadata": {
        "id": "mrbP4pHK5MmD"
      },
      "source": [
        "As you can see, the above query resulted into a new `DataFrame` containing only the Pokemons where `type_1` is `Normal`. For now, we will assign this new `DataFrame` into a new variable for convenience."
      ]
    },
    {
      "cell_type": "code",
      "execution_count": null,
      "metadata": {
        "id": "rT-THsW05MmD"
      },
      "outputs": [],
      "source": [
        "normal_pokemon_df = pokemon_df[pokemon_df[\"type_1\"] == \"Normal\"]"
      ]
    },
    {
      "cell_type": "markdown",
      "metadata": {
        "id": "F5Wf5eUj5MmE"
      },
      "source": [
        "Plot a histogram of the base HP of normal Pokemons."
      ]
    },
    {
      "cell_type": "code",
      "execution_count": null,
      "metadata": {
        "id": "8uXsXPrb5MmE"
      },
      "outputs": [],
      "source": [
        "# Write your code here\n"
      ]
    },
    {
      "cell_type": "markdown",
      "metadata": {
        "id": "ekaagKRB5MmE"
      },
      "source": [
        "**Question #6:** Which best describes the shape of the distribution of the base HP of normal Pokemons? (a) symmetric (b) positively-skewed (c) negatively-skewed (d) uniform\n",
        "\n",
        "Answer:"
      ]
    },
    {
      "cell_type": "markdown",
      "metadata": {
        "id": "u35yBU6l5MmE"
      },
      "source": [
        "We can also aggregate some summary statistics regarding the base HP using the [`agg`](https://pandas.pydata.org/pandas-docs/stable/reference/api/pandas.DataFrame.agg.html) function. Note that for this function, we pass a dictionary where the key is a column name and the corresponding value is a list of functions that we want to apply to that column. We can pass either an actual function **or** a string containing the name of a common function such as `\"mean\"` or `\"std\"`.\n",
        "\n",
        "Get the mean, standard deviation and length of the `hp` column."
      ]
    },
    {
      "cell_type": "code",
      "execution_count": null,
      "metadata": {
        "id": "9k5JOt3i5MmE"
      },
      "outputs": [],
      "source": [
        "normal_pokemon_df.agg({\"hp\": [\"mean\", \"std\", \"count\"]})"
      ]
    },
    {
      "cell_type": "markdown",
      "metadata": {
        "id": "wqD1oZsB5MmE"
      },
      "source": [
        "Next, let's try to do the same thing for normal Pokemons which were introduced on or before the 5th generation. We can filter observations using multiple criteria by using `&` (and) and `|` (or). Note that these are not the normal `and` and `or` operators in Python. These are bitwise operators that perform element-wise operations on two boolean lists."
      ]
    },
    {
      "cell_type": "code",
      "execution_count": null,
      "metadata": {
        "id": "_CCZc9Uc5MmE"
      },
      "outputs": [],
      "source": [
        "normal_pokemon_5thgen_df = pokemon_df[(pokemon_df[\"type_1\"] == \"Normal\") & (pokemon_df[\"generation\"] <= 5)]\n",
        "normal_pokemon_5thgen_df"
      ]
    },
    {
      "cell_type": "markdown",
      "metadata": {
        "id": "IT-yfiEk5MmF"
      },
      "source": [
        "Use the `agg` function to determine the **median** base HP of normal Pokemons introduced on or before the 5th generation."
      ]
    },
    {
      "cell_type": "code",
      "execution_count": null,
      "metadata": {
        "id": "A3uBJUHM5MmF"
      },
      "outputs": [],
      "source": [
        "# Write your code here\n"
      ]
    },
    {
      "cell_type": "markdown",
      "metadata": {
        "id": "omO_wlx75MmF"
      },
      "source": [
        "**Question #7:** What is the median base HP of normal Pokemons introduced on or before the 5th generation? Limit to 2 decimal places.\n",
        "\n",
        "Answer:"
      ]
    },
    {
      "cell_type": "markdown",
      "metadata": {
        "id": "58j_W9Hm5MmF"
      },
      "source": [
        "### Which type has the highest average base attack?"
      ]
    },
    {
      "cell_type": "markdown",
      "metadata": {
        "id": "-wlaI8Ol5MmF"
      },
      "source": [
        "To answer this question, the variables of interest are:\n",
        "- **`type_1`**: primary type of the Pokemon\n",
        "- **`attack`**: base attack of the Pokemon"
      ]
    },
    {
      "cell_type": "markdown",
      "metadata": {
        "id": "YByEBogl5MmF"
      },
      "source": [
        "Sometimes, we may want to form groups in the datasets and compute summary statistics for each group. For instance, to determine which type has a highest average base attack in the dataset, we need to compute the average for each type.\n",
        "\n",
        "To do this, we can use the [`groupby`](https://pandas.pydata.org/pandas-docs/stable/reference/api/pandas.DataFrame.groupby.html) function. The function will group the dataset using the value of the provided column name."
      ]
    },
    {
      "cell_type": "code",
      "execution_count": null,
      "metadata": {
        "id": "CQ5hTLSv5MmF"
      },
      "outputs": [],
      "source": [
        "pokemon_df.groupby(\"type_1\")"
      ]
    },
    {
      "cell_type": "markdown",
      "metadata": {
        "id": "mJRtXSQN5MmF"
      },
      "source": [
        "Get the mean and standard deviation of the base attack per Pokemon type."
      ]
    },
    {
      "cell_type": "code",
      "execution_count": null,
      "metadata": {
        "id": "xpkkpFOx5MmF"
      },
      "outputs": [],
      "source": [
        "pokemon_df.groupby(\"type_1\").agg({\"attack\": [\"mean\", \"std\"]})"
      ]
    },
    {
      "cell_type": "markdown",
      "metadata": {
        "id": "MybACrA_5MmG"
      },
      "source": [
        "You can sort a `DataFrame` by a column using the `sort_values` function. Sort the resulting table above in descending order to easily see which type has the highest average base attack."
      ]
    },
    {
      "cell_type": "code",
      "execution_count": null,
      "metadata": {
        "id": "eoXvpQTJ5MmG"
      },
      "outputs": [],
      "source": [
        "mean_df = pokemon_df.groupby(\"type_1\").agg({\"attack\": [\"mean\", \"std\"]})\n",
        "mean_df.sort_values((\"attack\", \"mean\"), ascending=False)"
      ]
    },
    {
      "cell_type": "markdown",
      "metadata": {
        "id": "BD6UV6pw5MmG"
      },
      "source": [
        "Note that `sort_value` accepts the variable name you want to sort as the parameter. In this case, we pass in the **tuple** `(\"attack\", \"mean\")` because if you look at the `DataFrame` in the previous cell, we have a hierharchical structure for the column names where the first level is `attack`, and the `mean` column is under that column."
      ]
    },
    {
      "cell_type": "markdown",
      "metadata": {
        "id": "N4d1hOnj5MmG"
      },
      "source": [
        "Find out which type has the highest median base attack. Make sure to sort the median values per type in descending order."
      ]
    },
    {
      "cell_type": "code",
      "execution_count": null,
      "metadata": {
        "id": "TIRgKA3u5MmG"
      },
      "outputs": [],
      "source": [
        "# Write your code here\n"
      ]
    },
    {
      "cell_type": "markdown",
      "metadata": {
        "id": "P1sZ_Ujs5MmG"
      },
      "source": [
        "**Question #8:** If you can choose which Pokemon type to use, using only the average base attack as the basis for your decision, which type has the **best** average base attack?\n",
        "\n",
        "Answer:"
      ]
    },
    {
      "cell_type": "markdown",
      "metadata": {
        "id": "RcB7WyVl5MmG"
      },
      "source": [
        "**Question #9:** In choosing the best Pokemon type according to base attack (previous question), would it be better to use mean or median? Why?\n",
        "\n",
        "Answer:"
      ]
    },
    {
      "cell_type": "markdown",
      "metadata": {
        "id": "CwcQx31r5MmG"
      },
      "source": [
        "We can also visualize the base attack per type by using a side-by-side boxplot from the [`boxplot`](https://pandas.pydata.org/pandas-docs/stable/reference/api/pandas.DataFrame.boxplot.html) function of matplotlib. Notice that you can control the size of the figures in matplotlib using the `figsize` parameter (also works in other plots)."
      ]
    },
    {
      "cell_type": "code",
      "execution_count": null,
      "metadata": {
        "id": "JW7gWp495MmH"
      },
      "outputs": [],
      "source": [
        "pokemon_df.boxplot(\"attack\", by=\"type_1\", figsize=(15, 10))\n",
        "plt.show()"
      ]
    },
    {
      "cell_type": "markdown",
      "metadata": {
        "id": "O9vZip605MmH"
      },
      "source": [
        "### Which type has the highest average base defense?"
      ]
    },
    {
      "cell_type": "markdown",
      "metadata": {
        "id": "HnI231yd5MmH"
      },
      "source": [
        "To answer this question, the variables of interest are:\n",
        "- **`type_1`**: primary type of the Pokemon\n",
        "- **`defense`**: base defense of the Pokemon"
      ]
    },
    {
      "cell_type": "markdown",
      "metadata": {
        "id": "20gXA6A_5MmH"
      },
      "source": [
        "Get the mean and standard deviation of the base defense per Pokemon type."
      ]
    },
    {
      "cell_type": "code",
      "execution_count": null,
      "metadata": {
        "id": "SWOVx2KT5MmH"
      },
      "outputs": [],
      "source": [
        "# Write your code here\n"
      ]
    },
    {
      "cell_type": "markdown",
      "metadata": {
        "id": "UFnO-cG-5MmH"
      },
      "source": [
        "Sort the resulting table above in descending order to easily see which type has the highest average base defense."
      ]
    },
    {
      "cell_type": "code",
      "execution_count": null,
      "metadata": {
        "id": "Ul_UgsJH5MmI"
      },
      "outputs": [],
      "source": [
        "# Write your code here\n"
      ]
    },
    {
      "cell_type": "markdown",
      "metadata": {
        "id": "Mt8IL0Rd5MmI"
      },
      "source": [
        "Find out which type has the highest median base defense. Make sure to sort the median values per type in descending order."
      ]
    },
    {
      "cell_type": "code",
      "execution_count": null,
      "metadata": {
        "id": "m8a82zvN5MmI"
      },
      "outputs": [],
      "source": [
        "# Write your code here\n"
      ]
    },
    {
      "cell_type": "markdown",
      "metadata": {
        "id": "lKj5C3ze5MmI"
      },
      "source": [
        "**Question #10:** Which type has the highest median base defense? What is its median base defense? Limit to 2 decimal places.\n",
        "\n",
        "Answer:"
      ]
    },
    {
      "cell_type": "markdown",
      "metadata": {
        "id": "5m8Z46VC5MmI"
      },
      "source": [
        "Visualize the base defense per type by using a side-by-side boxplot from the [`boxplot`](https://pandas.pydata.org/pandas-docs/stable/reference/api/pandas.DataFrame.boxplot.html) function of matplotlib."
      ]
    },
    {
      "cell_type": "code",
      "execution_count": null,
      "metadata": {
        "id": "udiWkO615MmI"
      },
      "outputs": [],
      "source": [
        "# Write your code here\n"
      ]
    },
    {
      "cell_type": "markdown",
      "metadata": {
        "id": "YTFPueFn5MmI"
      },
      "source": [
        "**Question #11:** Based on the visualization alone, which type has the best base defense value? Why?\n",
        "\n",
        "Answer:"
      ]
    },
    {
      "cell_type": "markdown",
      "metadata": {
        "id": "43CKGf1e5MmI"
      },
      "source": [
        "### Is there a relationship between `hp`, `attack`, `defense`?\n",
        "\n",
        "To answer this question, the variables of interest are:\n",
        "- **`hp`**: base HP of the Pokemon\n",
        "- **`attack`**: base attack of the Pokemon\n",
        "- **`defense`**: base defense of the Pokemon"
      ]
    },
    {
      "cell_type": "code",
      "execution_count": null,
      "metadata": {
        "id": "Vb5PIJ8N5MmJ"
      },
      "outputs": [],
      "source": [
        "hp_atk_def = pokemon_df[['hp', 'attack', 'defense']]\n",
        "hp_atk_def"
      ]
    },
    {
      "cell_type": "markdown",
      "metadata": {
        "id": "2yBp4bmo5MmJ"
      },
      "source": [
        "When we want to understand the relationship of different variables, typically numerical/continuous variables, we can get the correlation between the variables and check how they are related."
      ]
    },
    {
      "cell_type": "code",
      "execution_count": null,
      "metadata": {
        "id": "QLuAGVvK5MmJ"
      },
      "outputs": [],
      "source": [
        "hp_atk_def.corr()"
      ]
    },
    {
      "cell_type": "markdown",
      "metadata": {
        "id": "EhKEFsfT5MmJ"
      },
      "source": [
        "`pandas` has a built in `corr()` function which computes for the Pearson's correlation coefficient. The table created is called a correlation matrix.\n",
        "\n",
        "A good way to get a visual of the relationship of two variables is to use a scatter plot. Let's use a scatter plot to visualize the relationship of the HP and the attack stat of all Pokemons in the dataset.\n",
        "\n",
        "To do this, we can call the `scatter` function."
      ]
    },
    {
      "cell_type": "code",
      "execution_count": null,
      "metadata": {
        "id": "l_kHpimp5MmJ"
      },
      "outputs": [],
      "source": [
        "hp_atk_def.plot.scatter(x='hp', y='attack', alpha=0.5)\n",
        "plt.title('Relationship of Pokemon HP and Attack')"
      ]
    },
    {
      "cell_type": "markdown",
      "metadata": {
        "id": "JjO_XO0R5MmJ"
      },
      "source": [
        "From the correlation matrix above, the correlation of HP and attack is **0.442992**. It has a positive relationship, which means that as one value increases, the other value also increases.\n",
        "\n",
        "In most cases, to test whether the correlation is significant or not, a statistical test is performed."
      ]
    },
    {
      "cell_type": "markdown",
      "metadata": {
        "id": "lEt39cIv5MmJ"
      },
      "source": [
        "Now, let's look at the relationship of the Pokemons' attack and defense.\n",
        "\n",
        "Visualize the attack and defense of all Pokemons using a scatter plot."
      ]
    },
    {
      "cell_type": "code",
      "execution_count": null,
      "metadata": {
        "id": "a3qGih2Q5MmJ"
      },
      "outputs": [],
      "source": [
        "# Write your code here\n"
      ]
    },
    {
      "cell_type": "markdown",
      "metadata": {
        "id": "qD9kxKkl5MmJ"
      },
      "source": [
        "**Question #12:** What can you say about the correlation of attack and defense? (a) positively correlated, (b) negatively correlated\n",
        "\n",
        "Answer:"
      ]
    },
    {
      "cell_type": "markdown",
      "metadata": {
        "id": "MxCoVo7e5MmK"
      },
      "source": [
        "## Conclusions\n",
        "\n",
        "Given that the dataset is rich with information, there are a lot more information and relationships that you can extract from the dataset. Try looking at each variable and ask more questions that may interest you and visualize them to confirm or deny your initial hypothesis!"
      ]
    },
    {
      "cell_type": "code",
      "execution_count": null,
      "metadata": {
        "id": "nT5_va8N5MmK"
      },
      "outputs": [],
      "source": []
    }
  ],
  "metadata": {
    "kernelspec": {
      "display_name": "Python 3 (ipykernel)",
      "language": "python",
      "name": "python3"
    },
    "language_info": {
      "codemirror_mode": {
        "name": "ipython",
        "version": 3
      },
      "file_extension": ".py",
      "mimetype": "text/x-python",
      "name": "python",
      "nbconvert_exporter": "python",
      "pygments_lexer": "ipython3",
      "version": "3.9.12"
    },
    "colab": {
      "provenance": [],
      "include_colab_link": true
    }
  },
  "nbformat": 4,
  "nbformat_minor": 0
}